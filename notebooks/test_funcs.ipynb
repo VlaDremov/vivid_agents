{
 "cells": [
  {
   "cell_type": "code",
   "execution_count": 1,
   "id": "78c3217b",
   "metadata": {},
   "outputs": [],
   "source": [
    "from data.make_dummies import make_dummy_csvs\n",
    "from analytics import active_users_by_region\n",
    "from tools import active_users_by_region_tool\n",
    "import pandas as pd"
   ]
  },
  {
   "cell_type": "code",
   "execution_count": 6,
   "id": "6e536715",
   "metadata": {},
   "outputs": [],
   "source": [
    "users = pd.read_csv(\"data/raw/users.csv\")\n",
    "orders=  pd.read_csv(\"data/raw/orders.csv\")\n",
    "dct=  active_users_by_region(users, \"2024-06-01\", \"2024-06-30\")"
   ]
  },
  {
   "cell_type": "code",
   "execution_count": 7,
   "id": "2e453f8e",
   "metadata": {},
   "outputs": [
    {
     "data": {
      "text/html": [
       "<div>\n",
       "<style scoped>\n",
       "    .dataframe tbody tr th:only-of-type {\n",
       "        vertical-align: middle;\n",
       "    }\n",
       "\n",
       "    .dataframe tbody tr th {\n",
       "        vertical-align: top;\n",
       "    }\n",
       "\n",
       "    .dataframe thead th {\n",
       "        text-align: right;\n",
       "    }\n",
       "</style>\n",
       "<table border=\"1\" class=\"dataframe\">\n",
       "  <thead>\n",
       "    <tr style=\"text-align: right;\">\n",
       "      <th></th>\n",
       "      <th>order_id</th>\n",
       "      <th>user_id</th>\n",
       "      <th>order_date</th>\n",
       "      <th>order_amount</th>\n",
       "      <th>status</th>\n",
       "    </tr>\n",
       "  </thead>\n",
       "  <tbody>\n",
       "    <tr>\n",
       "      <th>0</th>\n",
       "      <td>1</td>\n",
       "      <td>1</td>\n",
       "      <td>2024-06-22</td>\n",
       "      <td>4537.44</td>\n",
       "      <td>delivered</td>\n",
       "    </tr>\n",
       "    <tr>\n",
       "      <th>1</th>\n",
       "      <td>2</td>\n",
       "      <td>1</td>\n",
       "      <td>2024-06-22</td>\n",
       "      <td>1666.36</td>\n",
       "      <td>paid</td>\n",
       "    </tr>\n",
       "    <tr>\n",
       "      <th>2</th>\n",
       "      <td>3</td>\n",
       "      <td>1</td>\n",
       "      <td>2024-06-14</td>\n",
       "      <td>3946.16</td>\n",
       "      <td>returned</td>\n",
       "    </tr>\n",
       "    <tr>\n",
       "      <th>3</th>\n",
       "      <td>4</td>\n",
       "      <td>1</td>\n",
       "      <td>2024-06-24</td>\n",
       "      <td>3320.37</td>\n",
       "      <td>shipped</td>\n",
       "    </tr>\n",
       "    <tr>\n",
       "      <th>4</th>\n",
       "      <td>5</td>\n",
       "      <td>2</td>\n",
       "      <td>2024-06-04</td>\n",
       "      <td>3710.95</td>\n",
       "      <td>paid</td>\n",
       "    </tr>\n",
       "    <tr>\n",
       "      <th>...</th>\n",
       "      <td>...</td>\n",
       "      <td>...</td>\n",
       "      <td>...</td>\n",
       "      <td>...</td>\n",
       "      <td>...</td>\n",
       "    </tr>\n",
       "    <tr>\n",
       "      <th>245</th>\n",
       "      <td>246</td>\n",
       "      <td>98</td>\n",
       "      <td>2024-06-22</td>\n",
       "      <td>3478.72</td>\n",
       "      <td>delivered</td>\n",
       "    </tr>\n",
       "    <tr>\n",
       "      <th>246</th>\n",
       "      <td>247</td>\n",
       "      <td>99</td>\n",
       "      <td>2024-06-22</td>\n",
       "      <td>2363.83</td>\n",
       "      <td>paid</td>\n",
       "    </tr>\n",
       "    <tr>\n",
       "      <th>247</th>\n",
       "      <td>248</td>\n",
       "      <td>99</td>\n",
       "      <td>2024-06-25</td>\n",
       "      <td>1012.18</td>\n",
       "      <td>delivered</td>\n",
       "    </tr>\n",
       "    <tr>\n",
       "      <th>248</th>\n",
       "      <td>249</td>\n",
       "      <td>99</td>\n",
       "      <td>2024-06-06</td>\n",
       "      <td>1774.61</td>\n",
       "      <td>returned</td>\n",
       "    </tr>\n",
       "    <tr>\n",
       "      <th>249</th>\n",
       "      <td>250</td>\n",
       "      <td>99</td>\n",
       "      <td>2024-06-24</td>\n",
       "      <td>2871.20</td>\n",
       "      <td>shipped</td>\n",
       "    </tr>\n",
       "  </tbody>\n",
       "</table>\n",
       "<p>250 rows × 5 columns</p>\n",
       "</div>"
      ],
      "text/plain": [
       "     order_id  user_id  order_date  order_amount     status\n",
       "0           1        1  2024-06-22       4537.44  delivered\n",
       "1           2        1  2024-06-22       1666.36       paid\n",
       "2           3        1  2024-06-14       3946.16   returned\n",
       "3           4        1  2024-06-24       3320.37    shipped\n",
       "4           5        2  2024-06-04       3710.95       paid\n",
       "..        ...      ...         ...           ...        ...\n",
       "245       246       98  2024-06-22       3478.72  delivered\n",
       "246       247       99  2024-06-22       2363.83       paid\n",
       "247       248       99  2024-06-25       1012.18  delivered\n",
       "248       249       99  2024-06-06       1774.61   returned\n",
       "249       250       99  2024-06-24       2871.20    shipped\n",
       "\n",
       "[250 rows x 5 columns]"
      ]
     },
     "execution_count": 7,
     "metadata": {},
     "output_type": "execute_result"
    }
   ],
   "source": [
    "orders"
   ]
  },
  {
   "cell_type": "code",
   "execution_count": 5,
   "id": "2ca4d3f7",
   "metadata": {},
   "outputs": [
    {
     "data": {
      "text/plain": [
       "{'Moscow': 17,\n",
       " 'Nizhny Novgorod': 1,\n",
       " 'Novosibirsk': 6,\n",
       " 'Omsk': 1,\n",
       " 'Other': 1,\n",
       " 'Saint Petersburg': 14,\n",
       " 'Samara': 3,\n",
       " 'Yekaterinburg': 4}"
      ]
     },
     "execution_count": 5,
     "metadata": {},
     "output_type": "execute_result"
    }
   ],
   "source": [
    "active_users_by_region_tool.invoke({\"df_users\": users, \"start_date\": \"2024-06-01\", \"end_date\": \"2024-06-20\"})"
   ]
  }
 ],
 "metadata": {
  "kernelspec": {
   "display_name": ".venv",
   "language": "python",
   "name": "python3"
  },
  "language_info": {
   "codemirror_mode": {
    "name": "ipython",
    "version": 3
   },
   "file_extension": ".py",
   "mimetype": "text/x-python",
   "name": "python",
   "nbconvert_exporter": "python",
   "pygments_lexer": "ipython3",
   "version": "3.13.2"
  }
 },
 "nbformat": 4,
 "nbformat_minor": 5
}
