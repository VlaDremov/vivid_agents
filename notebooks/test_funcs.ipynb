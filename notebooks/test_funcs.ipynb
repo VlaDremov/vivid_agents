{
 "cells": [
  {
   "cell_type": "code",
   "execution_count": 1,
   "id": "78c3217b",
   "metadata": {},
   "outputs": [],
   "source": [
    "import os\n",
    "os.chdir(\"C:/Users/user/Desktop/coding/vivid_test\")\n",
    "from vivid_analytics.data.make_dummies import make_dummy_csvs\n",
    "from vivid_analytics.analytics import *\n",
    "import pandas as pd\n",
    "\n",
    "# make_dummy_csvs()\n",
    "\n",
    "users = pd.read_csv(\"data/raw/users.csv\")\n",
    "orders=  pd.read_csv(\"data/raw/orders.csv\")\n",
    "# dct=  active_users_by_region(users, \"2024-06-01\", \"2024-06-30\")"
   ]
  },
  {
   "cell_type": "markdown",
   "id": "ac755c27",
   "metadata": {},
   "source": [
    "# Calculating Ground Truth"
   ]
  },
  {
   "cell_type": "code",
   "execution_count": 2,
   "id": "2ca4d3f7",
   "metadata": {},
   "outputs": [
    {
     "name": "stdout",
     "output_type": "stream",
     "text": [
      "2025-07-22 22:42:18 | INFO     | analytics | Calculating active users by region from 2024-06-01 to 2024-06-30\n",
      "2025-07-22 22:42:18 | INFO     | analytics | Calculation completed: 59 active users across 9 regions\n"
     ]
    },
    {
     "data": {
      "text/plain": [
       "59.0"
      ]
     },
     "execution_count": 2,
     "metadata": {},
     "output_type": "execute_result"
    }
   ],
   "source": [
    "active_users_by_region(users, '2024-06-01', '2024-06-30')"
   ]
  },
  {
   "cell_type": "code",
   "execution_count": 3,
   "id": "b11e536a",
   "metadata": {},
   "outputs": [
    {
     "name": "stdout",
     "output_type": "stream",
     "text": [
      "2025-07-22 22:42:18 | INFO     | analytics | Calculating registration to purchase conversion rate from 2024-06-01 to 2024-06-30 (conversion window: 30 days)\n",
      "2025-07-22 22:42:18 | INFO     | analytics | Conversion analysis completed: 8.86% conversion rate\n"
     ]
    },
    {
     "data": {
      "text/plain": [
       "8.86"
      ]
     },
     "execution_count": 3,
     "metadata": {},
     "output_type": "execute_result"
    }
   ],
   "source": [
    "registration_to_purchase_conversion_rate(users, orders, '2024-06-01', '2024-06-30')"
   ]
  },
  {
   "cell_type": "code",
   "execution_count": 4,
   "id": "0e61fdb6",
   "metadata": {},
   "outputs": [
    {
     "name": "stdout",
     "output_type": "stream",
     "text": [
      "2025-07-22 22:42:18 | INFO     | analytics | Calculating average order check by region from 2024-06-01 to 2024-06-30\n",
      "2025-07-22 22:42:18 | INFO     | analytics | Average order check calculation completed: 2929.46 \n"
     ]
    },
    {
     "data": {
      "text/plain": [
       "2929.46"
      ]
     },
     "execution_count": 4,
     "metadata": {},
     "output_type": "execute_result"
    }
   ],
   "source": [
    "average_order_check_by_region(users, orders, '2024-06-01', '2024-06-30')"
   ]
  },
  {
   "cell_type": "code",
   "execution_count": 5,
   "id": "ac84dc20",
   "metadata": {},
   "outputs": [
    {
     "name": "stdout",
     "output_type": "stream",
     "text": [
      "2025-07-22 22:42:18 | INFO     | analytics | Calculating users without orders by region from 2024-06-01 to 2024-06-30\n",
      "2025-07-22 22:42:18 | INFO     | analytics | Non-purchasing users analysis completed: 12 users (15.19%) across 5 regions\n"
     ]
    },
    {
     "data": {
      "text/plain": [
       "12"
      ]
     },
     "execution_count": 5,
     "metadata": {},
     "output_type": "execute_result"
    }
   ],
   "source": [
    "users_without_orders_by_region(users, orders, '2024-06-01', '2024-06-30')"
   ]
  },
  {
   "cell_type": "code",
   "execution_count": 6,
   "id": "4b14e13b",
   "metadata": {},
   "outputs": [
    {
     "name": "stdout",
     "output_type": "stream",
     "text": [
      "2025-07-22 22:42:18 | INFO     | analytics | Finding top 7 regions by registrations from 2024-06-01 to 2024-06-30\n",
      "2025-07-22 22:42:18 | INFO     | analytics | Top regions analysis completed: 7 regions identified from 79 total registrations across 11 regions\n"
     ]
    },
    {
     "data": {
      "text/plain": [
       "[{'rank': 1, 'region': 'Moscow', 'registrations': 27, 'percentage': 34.18},\n",
       " {'rank': 2,\n",
       "  'region': 'Saint Petersburg',\n",
       "  'registrations': 19,\n",
       "  'percentage': 24.05},\n",
       " {'rank': 3, 'region': 'Other', 'registrations': 10, 'percentage': 12.66},\n",
       " {'rank': 4, 'region': 'Novosibirsk', 'registrations': 6, 'percentage': 7.59},\n",
       " {'rank': 5, 'region': 'Kazan', 'registrations': 4, 'percentage': 5.06},\n",
       " {'rank': 6, 'region': 'Chelyabinsk', 'registrations': 3, 'percentage': 3.8},\n",
       " {'rank': 7, 'region': 'Yekaterinburg', 'registrations': 3, 'percentage': 3.8}]"
      ]
     },
     "execution_count": 6,
     "metadata": {},
     "output_type": "execute_result"
    }
   ],
   "source": [
    "top_regions_by_registrations(users, '2024-06-01', '2024-06-30', 7)"
   ]
  },
  {
   "cell_type": "code",
   "execution_count": 7,
   "id": "bc8ad208",
   "metadata": {},
   "outputs": [
    {
     "name": "stdout",
     "output_type": "stream",
     "text": [
      "2025-07-22 22:42:18 | INFO     | analytics | Calculating cancelled orders share from 2024-06-01 to 2024-06-30\n",
      "2025-07-22 22:42:18 | INFO     | analytics | Cancelled orders analysis completed: 22.16% (37/167 orders)\n"
     ]
    },
    {
     "data": {
      "text/plain": [
       "22.16"
      ]
     },
     "execution_count": 7,
     "metadata": {},
     "output_type": "execute_result"
    }
   ],
   "source": [
    "cancelled_orders_share(orders, '2024-06-01', '2024-06-30')"
   ]
  },
  {
   "cell_type": "code",
   "execution_count": 8,
   "id": "6eec3c71",
   "metadata": {},
   "outputs": [
    {
     "name": "stdout",
     "output_type": "stream",
     "text": [
      "2025-07-22 22:42:18 | INFO     | analytics | Calculating customer lifetime value from 2024-06-01 to 2024-06-30\n",
      "2025-07-22 22:42:18 | INFO     | analytics | Lifetime value calculation completed: $7057.08 average CLV ($557509.17 total revenue from 79 customers)\n"
     ]
    },
    {
     "data": {
      "text/plain": [
       "7057.08"
      ]
     },
     "execution_count": 8,
     "metadata": {},
     "output_type": "execute_result"
    }
   ],
   "source": [
    "customer_lifetime_value(users, orders, '2024-06-01', '2024-06-30')"
   ]
  },
  {
   "cell_type": "code",
   "execution_count": 9,
   "id": "d001cfed",
   "metadata": {},
   "outputs": [
    {
     "name": "stdout",
     "output_type": "stream",
     "text": [
      "2025-07-22 22:42:18 | INFO     | analytics | Calculating repeat customers percentage from 2024-06-01 to 2024-06-30\n",
      "2025-07-22 22:42:18 | INFO     | analytics | Repeat customers analysis completed: 51.58% (49/95 customers made multiple orders)\n"
     ]
    },
    {
     "data": {
      "text/plain": [
       "51.58"
      ]
     },
     "execution_count": 9,
     "metadata": {},
     "output_type": "execute_result"
    }
   ],
   "source": [
    "repeat_customers_percentage(orders, '2024-06-01', '2024-06-30')"
   ]
  },
  {
   "cell_type": "code",
   "execution_count": 12,
   "id": "3a0bec80",
   "metadata": {},
   "outputs": [
    {
     "name": "stdout",
     "output_type": "stream",
     "text": [
      "2025-07-22 22:42:22 | INFO     | analytics | Calculating registration dynamics from 2024-06-01 to 2024-06-30 (frequency: D)\n",
      "2025-07-22 22:42:22 | INFO     | analytics | Registration dynamics analysis completed: 79 registrations across 26 periods\n"
     ]
    },
    {
     "data": {
      "text/plain": [
       "{'2024-06-04': 2,\n",
       " '2024-06-05': 3,\n",
       " '2024-06-06': 2,\n",
       " '2024-06-07': 4,\n",
       " '2024-06-08': 1,\n",
       " '2024-06-09': 3,\n",
       " '2024-06-10': 1,\n",
       " '2024-06-11': 3,\n",
       " '2024-06-12': 4,\n",
       " '2024-06-13': 4,\n",
       " '2024-06-14': 4,\n",
       " '2024-06-15': 3,\n",
       " '2024-06-16': 4,\n",
       " '2024-06-17': 5,\n",
       " '2024-06-19': 3,\n",
       " '2024-06-20': 3,\n",
       " '2024-06-21': 3,\n",
       " '2024-06-22': 3,\n",
       " '2024-06-23': 2,\n",
       " '2024-06-24': 2,\n",
       " '2024-06-25': 5,\n",
       " '2024-06-26': 2,\n",
       " '2024-06-27': 1,\n",
       " '2024-06-28': 5,\n",
       " '2024-06-29': 5,\n",
       " '2024-06-30': 2}"
      ]
     },
     "execution_count": 12,
     "metadata": {},
     "output_type": "execute_result"
    }
   ],
   "source": [
    "registration_dynamic(users, '2024-06-01', '2024-06-30')"
   ]
  },
  {
   "cell_type": "code",
   "execution_count": 11,
   "id": "464e4637",
   "metadata": {},
   "outputs": [
    {
     "name": "stdout",
     "output_type": "stream",
     "text": [
      "2025-07-22 22:42:18 | INFO     | analytics | Calculating visitors without purchase from 2024-06-01 to 2024-06-30\n",
      "2025-07-22 22:42:18 | INFO     | analytics | Visitors without purchase analysis completed: 19 visitors (39.58%) out of 48 total visitors\n"
     ]
    },
    {
     "data": {
      "text/plain": [
       "19"
      ]
     },
     "execution_count": 11,
     "metadata": {},
     "output_type": "execute_result"
    }
   ],
   "source": [
    "visitors_without_purchase(users, orders, '2024-06-01', '2024-06-30')"
   ]
  }
 ],
 "metadata": {
  "kernelspec": {
   "display_name": ".venv",
   "language": "python",
   "name": "python3"
  },
  "language_info": {
   "codemirror_mode": {
    "name": "ipython",
    "version": 3
   },
   "file_extension": ".py",
   "mimetype": "text/x-python",
   "name": "python",
   "nbconvert_exporter": "python",
   "pygments_lexer": "ipython3",
   "version": "3.13.2"
  }
 },
 "nbformat": 4,
 "nbformat_minor": 5
}
